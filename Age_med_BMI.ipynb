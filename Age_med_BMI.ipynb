{
 "cells": [
  {
   "cell_type": "code",
   "execution_count": null,
   "metadata": {},
   "outputs": [],
   "source": [
    "#install.packages('ppcor')\n",
    "library(ppcor)\n",
    "library(lmPerm)\n",
    "library(psych)\n",
    "library(car)\n",
    "library(ggplot2)\n",
    "#install.packages('lme4')\n",
    "library(lme4)\n",
    "library(mediation)\n",
    "#install.packages('caret')\n",
    "#library(caret)\n",
    "#install.packages('gbm')\n",
    "library(gbm)\n",
    "#install.packages('party')\n",
    "library(party)\n",
    "#install.packages('Metrics')\n",
    "library(Metrics)\n",
    "#install.packages(\"wesanderson\")\n",
    "library(wesanderson)\n",
    "#install.packages('gtools')\n",
    "library(gtools)\n",
    "#install.packages('interactions')\n",
    "library(interactions)\n",
    "library(dplyr)\n",
    "library(ukbtools)\n",
    "library(mediation)\n",
    "library(lavaan)\n",
    "#install.packages('Deducer')\n",
    "#library(Deducer)\n",
    "#install.packages('gridExtra')\n",
    "library(gridExtra)\n",
    "#install.packages('reshape2')\n",
    "library(reshape2)\n",
    "#install.packages('ggsignif')\n",
    "library(ggsignif)\n",
    "#install.packages('svglite')\n",
    "library(svglite)\n",
    "library(MatchIt)"
   ]
  },
  {
   "cell_type": "code",
   "execution_count": null,
   "metadata": {},
   "outputs": [],
   "source": [
    "di=read.table('/dagher/dagher11/filip/PRSOB/data/brain_data.csv', header=TRUE, na.strings = \"\", sep=',', quote = \"\\\"\")\n",
    "\n",
    "\n",
    "# Exclude participants who had a heart attack, angina or stroke - self-reported\n",
    "exclusions_vd=c('Angina','Heart attack','Stroke')\n",
    "di$vascular_heart_diagnoses <- NA\n",
    "for (i in as.numeric(grep('vascularheart_problems_diagnosed_by_doctor', colnames(di)))) {\n",
    "    for (d in 1:length(exclusions_vd)) {\n",
    "        di$vascular_heart_diagnoses[grepl(exclusions_vd[d], di[[i]])] = 1\n",
    "    }\n",
    "}\n",
    "             \n",
    "exclusions_neuro=c('^G','^E0','^E10','^E2','^E3','^A8','^C70','^C71','^C72','^I6')\n",
    "# G - nervous system; F - Mental and behavioural; E0 - thyroid; E11-14 - diabetes, E2-3 endocrine glands; \n",
    "# A8 - viral infections of the CNS; C70-72 malignant neoplasms of brain, meninges and spinal cord; I6 - cerebrovscular\n",
    "\n",
    "di$neurological_disorder = NA\n",
    "for (i in as.numeric(grep('icd10', colnames(di)))) {\n",
    "    for (d in 1:length(exclusions_neuro)) {\n",
    "        di$neurological_disorder[grepl(exclusions_neuro[d], di[[i]])] = 1\n",
    "    }\n",
    "}\n",
    "\n",
    "di$excluded <- NA\n",
    "di$excluded[di$vascular_heart_diagnoses ==1] <- 1\n",
    "di$excluded[di$neurological_disorder ==1] <- 1\n",
    "\n",
    "di$included<-car::recode(di$excluded, \"1='excluded'; else='included'\")\n",
    "di=(di[!is.na(di$mean_thickness_of_caudalanteriorcingulate_left_hemisphere_27174.2.0),])\n",
    "nrow(di)\n",
    "#Select subjects if included ==1\n",
    "di_excluded <- subset(di, included==\"included\")\n",
    "\n",
    "ukbb_all=di_excluded\n",
    "ukbb_all=(ukbb_all[!is.na(ukbb_all$mean_thickness_of_caudalanteriorcingulate_left_hemisphere_27174.2.0),])\n",
    "nrow(ukbb_all)\n",
    "\n",
    "ukbb_all$Hypertension=0\n",
    "ukbb_all$Hypertension[ukbb_all$hypertension=='1' | ukbb_all$hypertension2=='1']=1\n",
    "ukbb_all$Diabetes=0\n",
    "ukbb_all$Diabetes[ukbb_all$diabetes=='1' | ukbb_all$diabetes2=='1']=1\n",
    "ukbb_all$WHR = ukbb_all$waist_circumference_48.0.0/ukbb_all$hip_circumference_49.0.0\n",
    "ukbb_all$agesq=ukbb_all$age_when_attended_assessment_centre_21003.2.0^2\n",
    "\n",
    "#ukbb_all=(ukbb_all[!is.na(ukbb_all$mean_thickness_of_caudalanteriorcingulate_left_hemisphere_27174.2.0),])\n",
    "nrow(ukbb_all)"
   ]
  },
  {
   "cell_type": "code",
   "execution_count": null,
   "metadata": {},
   "outputs": [],
   "source": [
    "write.table(ukbb_all,'/dagher/dagher11/filip/OBAL/UKBB_OHBM_excluded.csv',\n",
    "            row.names=F,col.names=T, quote=T)"
   ]
  },
  {
   "cell_type": "code",
   "execution_count": null,
   "metadata": {},
   "outputs": [],
   "source": [
    "ukbb_all=read.table('/dagher/dagher11/filip/OBAL/UKBB_OHBM_excluded.csv',\n",
    "            header=T, quote='\"')"
   ]
  },
  {
   "cell_type": "markdown",
   "metadata": {},
   "source": [
    "# New UKB dataframe with only one BMI timepoint"
   ]
  },
  {
   "cell_type": "code",
   "execution_count": null,
   "metadata": {},
   "outputs": [],
   "source": [
    "rm(UKB)\n",
    "UKB=data.frame(ukbb_all$eid, ukbb_all$body_mass_index_bmi_21001.2.0,\n",
    "               ukbb_all$age_when_attended_assessment_centre_21003.2.0,\n",
    "               ukbb_all$sex_31.0.0,\n",
    "               ukbb_all$volume_of_accumbens.area_left_hemisphere_26564.2.0,\n",
    "               ukbb_all$volume_of_accumbens.area_right_hemisphere_26595.2.0,\n",
    "               ukbb_all$volume_of_estimatedtotalintracranial_whole_brain_26521.2.0,\n",
    "               ukbb_all$volume_of_caudate_right_hemisphere_26590.2.0, \n",
    "               ukbb_all$volume_of_caudate_left_hemisphere_26559.2.0, \n",
    "               ukbb_all$volume_of_thalamus.proper_right_hemisphere_26589.2.0, \n",
    "               ukbb_all$volume_of_thalamus.proper_left_hemisphere_26558.2.0,\n",
    "               ukbb_all$volume_of_pallidum_right_hemisphere_26592.2.0, \n",
    "               ukbb_all$volume_of_pallidum_left_hemisphere_26561.2.0, \n",
    "               ukbb_all$volume_of_putamen_right_hemisphere_26591.2.0, \n",
    "               ukbb_all$volume_of_putamen_left_hemisphere_26560.2.0,\n",
    "               ukbb_all$body_mass_index_bmi_21001.0.0)\n",
    "\n",
    "colnames(UKB)=c('ID','BMI','Age','Gender','LeftAcc','RightAcc','eTIV','CaudateR','CaudateL','ThalamusR',\n",
    "                'ThalamusL','PallidumR','PallidumL','PutamenR','PutamenL','BMI1')\n",
    "\n",
    "UKB=na.omit(UKB)\n",
    "\n",
    "UKB$RAccSt=((UKB$RightAcc/UKB$eTIV)-mean(UKB$RightAcc/UKB$eTIV))/sd(UKB$RightAcc/UKB$eTIV)\n",
    "UKB$LAccSt=((UKB$LeftAcc/UKB$eTIV)-mean(UKB$LeftAcc/UKB$eTIV))/sd(UKB$LeftAcc/UKB$eTIV)\n",
    "UKB$RPutSt=((UKB$PutamenR/UKB$eTIV)-mean(UKB$PutamenR/UKB$eTIV))/sd(UKB$PutamenR/UKB$eTIV)\n",
    "UKB$LPutSt=((UKB$PutamenL/UKB$eTIV)-mean(UKB$PutamenL/UKB$eTIV))/sd(UKB$PutamenL/UKB$eTIV)\n",
    "UKB$RPalSt=((UKB$PallidumR/UKB$eTIV)-mean(UKB$PallidumR/UKB$eTIV))/sd(UKB$PallidumR/UKB$eTIV)\n",
    "UKB$LPalSt=((UKB$PallidumL/UKB$eTIV)-mean(UKB$PallidumL/UKB$eTIV))/sd(UKB$PallidumL/UKB$eTIV)\n",
    "UKB$RCauSt=((UKB$CaudateR/UKB$eTIV)-mean(UKB$CaudateR/UKB$eTIV))/sd(UKB$CaudateR/UKB$eTIV)\n",
    "UKB$LCauSt=((UKB$CaudateL/UKB$eTIV)-mean(UKB$CaudateL/UKB$eTIV))/sd(UKB$CaudateL/UKB$eTIV)\n",
    "UKB$RThaSt=((UKB$ThalamusR/UKB$eTIV)-mean(UKB$ThalamusR/UKB$eTIV))/sd(UKB$ThalamusR/UKB$eTIV)\n",
    "UKB$LThaSt=((UKB$ThalamusL/UKB$eTIV)-mean(UKB$ThalamusL/UKB$eTIV))/sd(UKB$ThalamusL/UKB$eTIV)\n",
    "\n",
    "variables_for_outliers=c(16:25)\n",
    "#variables_for_outliers=c(2)\n",
    "\n",
    "for (j in variables_for_outliers) {\n",
    "    Q3=as.numeric(quantile(UKB[j],0.75, na.rm=TRUE))\n",
    "    Q1=as.numeric(quantile(UKB[j],0.25, na.rm=TRUE))\n",
    "    upper=Q3+(2.2*(Q3-Q1))\n",
    "    lower=Q1-(2.2*(Q3-Q1))\n",
    "    UKB[j][UKB[j]<lower]=NA\n",
    "    UKB[j][UKB[j]>upper]=NA\n",
    "}\n",
    "\n",
    "UKB=na.omit(UKB)\n",
    "nrow(UKB)"
   ]
  },
  {
   "cell_type": "markdown",
   "metadata": {},
   "source": [
    "## Calculate moderations"
   ]
  },
  {
   "cell_type": "code",
   "execution_count": null,
   "metadata": {
    "scrolled": true
   },
   "outputs": [],
   "source": [
    "stats=matrix()\n",
    "ps=matrix()\n",
    "\n",
    "vars=c('RAccSt$', 'LAccSt$',  \n",
    "       'RPutSt$', 'LPutSt$',  \n",
    "       'RPalSt$', 'LPalSt$', \n",
    "       'RCauSt$', 'LCauSt$', \n",
    "       'RThaSt$', 'LThaSt$'\n",
    "       )\n",
    "\n",
    "\n",
    "for (i in 1:length(vars)) {\n",
    "\n",
    "a=(summary(lm(UKB[[grep(vars[i],colnames(UKB))]] ~ \n",
    "      scale(UKB$BMI) *\n",
    "      scale(UKB$Age) +\n",
    "      as.factor(UKB$Gender))))\n",
    "    \n",
    "    print(a)\n",
    "    \n",
    "    ps[i]=a$coefficients[5,4]\n",
    "    stats[i]=a$coefficients[5,3]\n",
    "\n",
    "}\n",
    "\n",
    "\n",
    "stats_adj=p.adjust(ps,method='BH')\n",
    "stats_adj\n",
    "stats"
   ]
  },
  {
   "cell_type": "markdown",
   "metadata": {},
   "source": [
    "## Plot all age moderations"
   ]
  },
  {
   "cell_type": "code",
   "execution_count": null,
   "metadata": {
    "scrolled": true
   },
   "outputs": [],
   "source": [
    "UKB$BMIsl=(log(UKB$BMI)-mean(log(UKB$BMI)))/sd(log(UKB$BMI))\n",
    "UKB$Ages=scale(UKB$Age)\n",
    "\n",
    "regions=data.frame(UKB$RAccSt,UKB$LAccSt,\n",
    "                   UKB$RPutSt,UKB$LPutSt,\n",
    "                   UKB$RPalSt,UKB$LPalSt,\n",
    "                   UKB$RCauSt,UKB$LCauSt,\n",
    "                   UKB$RThaSt,UKB$LThaSt)\n",
    "\n",
    "names=c('Right accumbens volume','Left accumbens volume',\n",
    "        'Right putamen volume','Left putamen volume',\n",
    "        'Right pallidum volume','Left pallidum volum',\n",
    "        'Right caudate volume','Left caudate volume',\n",
    "        'Right thalamus volume','Left thalamus volume')\n",
    "\n",
    "tags1=c('c','a','c','a','c','a','c','a','c','a')\n",
    "tags2=c('d','b','d','b','d','b','d','b','d','b')\n",
    "        \n",
    "filenames=c('Accumbens','Putamen','Pallidum','Caudate','Thalamus')\n",
    "colours=c(\"BuPu\",\"BuPu\",\"YlGn\",\"YlGn\",\"RdPu\",\"RdPu\",\n",
    "         \"YlOrRd\",\"YlOrRd\",'Blues','Blues')\n",
    "colours1=c('purple','purple','green3','green3',\n",
    "           'magenta','magenta','goldenrod1','goldenrod1',\n",
    "          'royalblue','royalblue')\n",
    "\n",
    "significance=c('','p=0.017',\n",
    "              '','',\n",
    "              'p<0.003','p<0.001',\n",
    "              '','',\n",
    "              'p<0.023','')\n",
    "\n",
    "slopes=list()\n",
    "agedep=list()\n",
    "\n",
    "for (i in 1:length(regions)) {\n",
    "    \n",
    "    a=as.numeric(regions[[i]])\n",
    "    Reg=lm(a ~ BMIsl*Age + as.factor(Gender), data = UKB)\n",
    "    \n",
    "    ss=sim_slopes(Reg, pred = BMIsl, modx = Age, \n",
    "                     modx.values = c(45,50,55,60,65,70,75,80))\n",
    "    \n",
    "    slopes[[i]]=(plot(ss) + \n",
    "                 xlim(-0.2,0.2) + \n",
    "                 scale_color_manual(values=colours1[i]) + \n",
    "                 theme_classic() +\n",
    "                 ylab(' ') + \n",
    "                 xlab(paste('Slope of BMI','*',names[i], sep=''))) + \n",
    "    labs(tag = tags1[i]) + \n",
    "    geom_text(x=0.15, y=8, label = significance[i], size=3.5, show.legend = FALSE, colour='black')\n",
    "    \n",
    "\n",
    "    agedep[[i]]=(interact_plot(Reg, pred = BMIsl, modx = Age, interval = TRUE, int.width = 0.8, \n",
    "                  color.class=colours[i], line.thickness=0.8) + \n",
    "                 theme_classic() + \n",
    "                 ylab(names[i]) + \n",
    "                 xlab('BMI z-scores')) + \n",
    "    labs(tag = tags2[i]) + \n",
    "    ylim(-1,1)\n",
    "\n",
    "    \n",
    "}"
   ]
  },
  {
   "cell_type": "code",
   "execution_count": null,
   "metadata": {},
   "outputs": [],
   "source": [
    "p_index=1\n",
    "for (p in 1:5) {        \n",
    "    grid=grid.arrange(\n",
    "      slopes[[p_index]], slopes[[p_index+1]], \n",
    "      agedep[[p_index]], agedep[[p_index+1]],\n",
    "      widths = c(1,1),\n",
    "      layout_matrix = rbind(c(2, 4),\n",
    "                            c(1, 3)))\n",
    "    \n",
    "    p_index=p_index+2\n",
    "\n",
    "\n",
    "    ggsave(\n",
    "      paste('/dagher/dagher11/filip/OBAL/HBM_Figures/',filenames[p],'.tiff',sep=''),\n",
    "      plot = grid,\n",
    "      device = \"tiff\",\n",
    "      scale = 1,\n",
    "      width = 20,\n",
    "      height = 20,\n",
    "      units = c('cm'),\n",
    "      dpi = 300)\n",
    "    \n",
    "    }"
   ]
  },
  {
   "cell_type": "markdown",
   "metadata": {},
   "source": [
    "## Creating and matching obesity maintainers and developers"
   ]
  },
  {
   "cell_type": "markdown",
   "metadata": {},
   "source": [
    "### Create grouping variables"
   ]
  },
  {
   "cell_type": "code",
   "execution_count": null,
   "metadata": {},
   "outputs": [],
   "source": [
    "UKB$GroupBMI1=cut(UKB$BMI1,c(0,25,28.4,100))\n",
    "UKB$GroupBMI3=cut(UKB$BMI,c(0,25,28.4,100))"
   ]
  },
  {
   "cell_type": "markdown",
   "metadata": {},
   "source": [
    "### Divide into groups"
   ]
  },
  {
   "cell_type": "code",
   "execution_count": null,
   "metadata": {
    "scrolled": false
   },
   "outputs": [],
   "source": [
    "set.seed(03)\n",
    "UKB_dfs=UKB %>%\n",
    "  group_split(GroupBMI1, GroupBMI3)\n",
    "UKB %>%\n",
    "  group_by(GroupBMI1,GroupBMI3) %>%\n",
    "summarize(n())\n",
    "\n",
    "UKB_dfs=na.omit(UKB_dfs)"
   ]
  },
  {
   "cell_type": "code",
   "execution_count": null,
   "metadata": {
    "scrolled": false
   },
   "outputs": [],
   "source": [
    "Maintain=as.data.frame(UKB_dfs[[9]])\n",
    "Maintain$Group='Maintainers'\n",
    "Develop=as.data.frame(rbind(UKB_dfs[[3]]))\n",
    "Develop$Group='Developers'\n",
    "\n",
    "MainDev=rbind(Maintain,Develop)\n",
    "MainDev$Sample <- as.logical(MainDev$Group == 'Developers')"
   ]
  },
  {
   "cell_type": "markdown",
   "metadata": {},
   "source": [
    "### Match groups"
   ]
  },
  {
   "cell_type": "code",
   "execution_count": null,
   "metadata": {
    "scrolled": true
   },
   "outputs": [],
   "source": [
    "matched_groups <- matchit(Sample ~ BMI + Age + Gender, data = MainDev, method=\"nearest\")\n",
    "summary(matched_groups, standardize = TRUE)\n",
    "#plot(matched_groups)"
   ]
  },
  {
   "cell_type": "code",
   "execution_count": null,
   "metadata": {},
   "outputs": [],
   "source": [
    "df.match <- match.data(matched_groups)#[1:ncol(MainDev)]"
   ]
  },
  {
   "cell_type": "markdown",
   "metadata": {},
   "source": [
    "### Plot BMIs"
   ]
  },
  {
   "cell_type": "code",
   "execution_count": null,
   "metadata": {
    "scrolled": false
   },
   "outputs": [],
   "source": [
    "library(tidyr)\n",
    "gathered=gather(df.match, key='timepoint', value='BMI', c(BMI, BMI1), factor_key=FALSE)\n",
    "\n",
    "sample_sum <- gathered %>%\n",
    "  group_by(timepoint, Group) %>%\n",
    "  summarize(mean = mean(BMI),\n",
    "            sd   = sd(BMI),\n",
    "            mean_p2sd = mean + 2 * sd,\n",
    "            mean_m2sd = mean - 2 * sd) %>%\n",
    "  ungroup()\n",
    "\n",
    "sample_sum$timepoint[sample_sum$timepoint==\"BMI\"] <- 2\n",
    "sample_sum$timepoint[sample_sum$timepoint==\"BMI1\"] <- 1\n",
    "#sample_sum$timepoint[sample_sum$timepoint==\"BMI2\"] <- 2\n",
    "\n",
    "#ggplot(data=gathered, aes(x=timepoint, y=BMI, group=Group, colour=Group)) + #geom_point(show.legend = FALSE) + \n",
    "#geom_line(show.legend=TRUE)\n",
    "sample_sum$Group=factor(sample_sum$Group, ordered=TRUE)\n",
    "sample_sum$timepoint=as.numeric(sample_sum$timepoint)\n",
    "\n",
    "tiff('/dagher/dagher11/filip/OBAL/HBM_Figures/BMI_long.tiff', units=\"in\", width=6, height=5, res=300)\n",
    "ggplot(sample_sum, aes(x = (timepoint),  color = Group, fill = Group)) + \n",
    "  geom_ribbon(aes(ymin = mean_m2sd, ymax = mean_p2sd), alpha = 0.1) +\n",
    "  geom_line(aes(y= mean)) +  theme_minimal() + labs(x = \"Timepoint\") +\n",
    "scale_fill_manual(values=c(\"#530077\", \"#FF21FF\")) + scale_color_manual(values=c(\"#530077\", \"#FF21FF\")) +\n",
    "ylab(bquote('BMI ['~'kg /'~~m^2~']')) + scale_x_continuous(breaks=c(1,2)) \n",
    "dev.off()\n",
    "\n",
    "\n",
    "\n",
    "\n",
    "p <- ggplot(sample_sum %>%\n",
    "              gather(stat, BMI, mean, mean_p2sd:mean_m2sd), \n",
    "            aes(x = timepoint, y = BMI)) + \n",
    "  geom_line(aes(color = Group, linetype = stat))+ facet_wrap(sample_sum$Group)\n"
   ]
  },
  {
   "cell_type": "markdown",
   "metadata": {},
   "source": [
    "### Calculate stats "
   ]
  },
  {
   "cell_type": "code",
   "execution_count": null,
   "metadata": {
    "scrolled": true
   },
   "outputs": [],
   "source": [
    "stats=matrix(14,1)\n",
    "ps=matrix()\n",
    "\n",
    "vars=c('LAccSt$', 'RThaSt$', 'RPalSt$', 'LPalSt$')\n",
    "\n",
    "\n",
    "for (i in 1:length(vars)) {\n",
    "    \n",
    "    print(vars[i])\n",
    "    \n",
    "    a=(summary(lm(df.match[[grep(vars[i],colnames(df.match))]] ~ Group + Age + Gender, data = df.match)))\n",
    "    \n",
    "    stats[i]=a$coefficients[2,4]\n",
    "    ps[i]=a$coefficients[2,3]\n",
    "    print(a)\n",
    "    \n",
    "    }\n",
    "\n",
    "vars\n",
    "stats\n",
    "ps"
   ]
  },
  {
   "cell_type": "code",
   "execution_count": null,
   "metadata": {},
   "outputs": [],
   "source": [
    "Nacc_plot=select(df.match, ID, Group, LAccSt)\n",
    "PalR_plot=select(df.match, ID, Group, RPalSt)\n",
    "PalL_plot=select(df.match, ID, Group, LPalSt)\n",
    "ThaR_plot=select(df.match, ID, Group, RThaSt)\n",
    "Nacc_plot=melt(Nacc_plot,id.vars = c(\"ID\",'Group'))\n",
    "PalR_plot=melt(PalR_plot,id.vars = c(\"ID\",'Group'))\n",
    "PalL_plot=melt(PalL_plot,id.vars = c(\"ID\",'Group'))\n",
    "ThaR_plot=melt(ThaR_plot,id.vars = c(\"ID\",'Group'))"
   ]
  },
  {
   "cell_type": "code",
   "execution_count": 713,
   "metadata": {},
   "outputs": [],
   "source": [
    "df.match$GRP<-car::recode(df.match$Group, \"'Maintainers'='2'; else='1'\")\n"
   ]
  },
  {
   "cell_type": "code",
   "execution_count": null,
   "metadata": {
    "scrolled": true
   },
   "outputs": [],
   "source": [
    "graphs=list()\n",
    "\n",
    "\n",
    "dframes=c('Nacc_plot', 'PalL_plot', 'PalR_plot','ThaR_plot')\n",
    "titles=c('Left nucleus accumbens volume','Left pallidum volume',\n",
    "         'Right pallidum volume','Right thalamus volume')\n",
    "labels=c('','','0.026','')\n",
    "colours=c('PRGn','RdPu','RdPu','Blues')\n",
    "lines=c(0.85,1.85,1.15,2.15,0.85,1.85,0.85,1.85)\n",
    "tags=c('a','b','d','c')\n",
    "index=1\n",
    "for (i in 1:length(dframes)) {\n",
    "\n",
    "        graphs[[i]]=ggplot(eval(as.name(dframes[i])), aes(x=variable, y=value, fill=Group)) + \n",
    "            geom_violin(trim=FALSE,position=position_dodge(0.75), width=0.6) +\n",
    "            geom_point(pch = 21, position = position_jitterdodge(dodge.width = 0.75, jitter.width=0.08), size=0.1) + \n",
    "            geom_boxplot(outlier.shape = NA, alpha=0.7, position=position_dodge(0.75), width=0.3) + \n",
    "            theme_minimal() +\n",
    "            ylab(titles[i]) + \n",
    "            ylim(-4.5,4.5) +\n",
    "            xlab('Software package') +\n",
    "            scale_x_discrete(labels=c(\"Freesurfer\", \"FSL\")) +\n",
    "            theme(axis.title.x=element_blank()) +\n",
    "            scale_fill_brewer(palette=colours[i]) +\n",
    "            geom_text(x=1, y=4.4, label = labels[index], size=3) +\n",
    "            geom_text(x=2, y=4.4, label = labels[index+1], size=3) +\n",
    "            geom_segment(x = 0.85, xend = lines[index], y = 4, yend=4, size=0.05) +\n",
    "            geom_segment(x = 1.85, xend = lines[index+1], y = 4, yend=4, size=0.05) +\n",
    "            labs(tag = tags[i])\n",
    "            \n",
    "        index=index+2\n",
    "    }\n",
    "\n",
    "\n",
    "grid=grid.arrange(\n",
    "  graphs[[1]], graphs[[2]], graphs[[3]], graphs[[4]],\n",
    "  widths = c(1,1),\n",
    "  layout_matrix = rbind(c(1, 2),\n",
    "                        c(3, 4))\n",
    ")\n",
    "\n",
    "ggsave(\n",
    "  '/dagher/dagher11/filip/OBAL/HBM_Figures/MainDev.tiff',\n",
    "  plot = grid,\n",
    "  device = \"tiff\",\n",
    "  scale = 1,\n",
    "  width = 20,\n",
    "  height = 30,\n",
    "  units = c('cm'),\n",
    "  dpi = 300\n",
    ")\n"
   ]
  },
  {
   "cell_type": "code",
   "execution_count": 503,
   "metadata": {},
   "outputs": [],
   "source": [
    "structures=c('LAccSt$','LAccStFSL$','LPalSt$','LPalStFSL$','RPalSt$','RPalStFSL$','LPutSt$','LPutStFSL$',\n",
    "             'RPutSt$','RPutStFSL$','LCauSt$','LCauStFSL$','RCauSt$','RCauStFSL$')\n",
    "titles=c('Left nucleus accumbens volume - Freesurfer','Left nucleus accumbens volume - FSL',\n",
    "         'Left pallidum volume - Freesurfer','Left pallidum volume - FSL','Right pallidum volume - Freesurfer',\n",
    "         'Right pallidum volume - FSL','Left putamen volume - Freesurfer','Left putamen volume - FSL',\n",
    "         'Right putamen volume - Freesurfer','Right putamen volume - FSL','Left caudate volume - Freesurfer',\n",
    "         'Left caudate volume - FSL','Right caudate volume - Freesurfer','Right caudate volume - FSL')\n"
   ]
  },
  {
   "cell_type": "code",
   "execution_count": 504,
   "metadata": {
    "scrolled": true
   },
   "outputs": [],
   "source": [
    "for (i in 1:length(structures)) {\n",
    "        \n",
    "        graph=ggplot(df.match, aes(x=Group, y=df.match[[grep(structures[i],colnames(df.match))]])) + \n",
    "        geom_violin(trim=FALSE) +\n",
    "        geom_boxplot(outlier.colour=\"red\", outlier.shape=NA, outlier.size=4) + \n",
    "        geom_jitter(shape=16, position=position_jitter(0.1)) + \n",
    "        theme_minimal() +\n",
    "        ylab(titles[i]) + \n",
    "        ylim(-5,5)\n",
    "        \n",
    "        print(graph)\n",
    "        \n",
    "}"
   ]
  }
 ],
 "metadata": {
  "kernelspec": {
   "display_name": "R",
   "language": "R",
   "name": "ir"
  },
  "language_info": {
   "codemirror_mode": "r",
   "file_extension": ".r",
   "mimetype": "text/x-r-source",
   "name": "R",
   "pygments_lexer": "r",
   "version": "3.6.1"
  }
 },
 "nbformat": 4,
 "nbformat_minor": 2
}
